{
 "cells": [
  {
   "cell_type": "code",
   "execution_count": 6,
   "metadata": {},
   "outputs": [],
   "source": [
    "import gradio as gr\n",
    "import openai"
   ]
  },
  {
   "cell_type": "code",
   "execution_count": 7,
   "metadata": {},
   "outputs": [],
   "source": [
    "# Function to interact with the GPT-3 model and get a response.\n",
    "def get_gpt3_response(prompt):\n",
    "    openai.api_key = \"YOUR_API_KEY_HERE\"  # Replace with your GPT-3 API key\n",
    "    response = openai.Completion.create(\n",
    "        engine=\"text-davinci-002\",  # Use the appropriate GPT-3 engine\n",
    "        prompt=prompt,\n",
    "        max_tokens=100,\n",
    "    )\n",
    "    return response[\"choices\"][0][\"text\"].strip()\n"
   ]
  },
  {
   "cell_type": "code",
   "execution_count": 13,
   "metadata": {},
   "outputs": [
    {
     "name": "stdout",
     "output_type": "stream",
     "text": [
      "Running on local URL:  http://127.0.0.1:7864\n",
      "\n",
      "To create a public link, set `share=True` in `launch()`.\n"
     ]
    },
    {
     "data": {
      "text/html": [
       "<div><iframe src=\"http://127.0.0.1:7864/\" width=\"100%\" height=\"500\" allow=\"autoplay; camera; microphone; clipboard-read; clipboard-write;\" frameborder=\"0\" allowfullscreen></iframe></div>"
      ],
      "text/plain": [
       "<IPython.core.display.HTML object>"
      ]
     },
     "metadata": {},
     "output_type": "display_data"
    },
    {
     "data": {
      "text/plain": []
     },
     "execution_count": 13,
     "metadata": {},
     "output_type": "execute_result"
    },
    {
     "name": "stderr",
     "output_type": "stream",
     "text": [
      "Traceback (most recent call last):\n",
      "  File \"c:\\Users\\zeewe\\AppData\\Local\\Programs\\Python\\Python39\\lib\\site-packages\\gradio\\routes.py\", line 442, in run_predict\n",
      "    output = await app.get_blocks().process_api(\n",
      "  File \"c:\\Users\\zeewe\\AppData\\Local\\Programs\\Python\\Python39\\lib\\site-packages\\gradio\\blocks.py\", line 1389, in process_api\n",
      "    result = await self.call_function(\n",
      "  File \"c:\\Users\\zeewe\\AppData\\Local\\Programs\\Python\\Python39\\lib\\site-packages\\gradio\\blocks.py\", line 1094, in call_function\n",
      "    prediction = await anyio.to_thread.run_sync(\n",
      "  File \"c:\\Users\\zeewe\\AppData\\Local\\Programs\\Python\\Python39\\lib\\site-packages\\anyio\\to_thread.py\", line 33, in run_sync\n",
      "    return await get_asynclib().run_sync_in_worker_thread(\n",
      "  File \"c:\\Users\\zeewe\\AppData\\Local\\Programs\\Python\\Python39\\lib\\site-packages\\anyio\\_backends\\_asyncio.py\", line 877, in run_sync_in_worker_thread\n",
      "    return await future\n",
      "  File \"c:\\Users\\zeewe\\AppData\\Local\\Programs\\Python\\Python39\\lib\\site-packages\\anyio\\_backends\\_asyncio.py\", line 807, in run\n",
      "    result = context.run(func, *args)\n",
      "  File \"c:\\Users\\zeewe\\AppData\\Local\\Programs\\Python\\Python39\\lib\\site-packages\\gradio\\utils.py\", line 703, in wrapper\n",
      "    response = f(*args, **kwargs)\n",
      "  File \"C:\\Users\\zeewe\\AppData\\Local\\Temp\\ipykernel_6344\\1208560968.py\", line 7, in language_model_inference\n",
      "    response = \"Chatbot: \" + text\n",
      "TypeError: can only concatenate str (not \"NoneType\") to str\n"
     ]
    }
   ],
   "source": [
    "import gradio as gr\n",
    "\n",
    "# Replace this with your own language model initialization code\n",
    "def language_model_inference(text, chat_history=[]):\n",
    "    # Your language model inference code goes here\n",
    "    # For example, here we echo the user input and add it to the chat history:\n",
    "    response = \"Chatbot: \" + text\n",
    "    chat_history.append(\"You: \" + text)\n",
    "    chat_history.append(response)\n",
    "    chat_log = \"<br>\".join(chat_history)\n",
    "    return response, chat_log\n",
    "\n",
    "chat_history = []\n",
    "\n",
    "iface = gr.Interface(\n",
    "    fn=language_model_inference,\n",
    "    inputs=gr.Textbox(lines=2, placeholder=\"Type a message...\"),\n",
    "    outputs=[gr.Label(\"Chatbot's Response\"), gr.HTML(\"Chat History\")],\n",
    "    live=True,  # Enable live updates to show the chat history\n",
    "    examples=[[\"Hi\"], [\"How are you?\"], [\"Tell me a joke.\"]],  # Example queries for demonstration\n",
    "    title=\"Chatbox\",\n",
    "    description=\"Chat with the chatbot!\",\n",
    ")\n",
    "\n",
    "iface.launch()"
   ]
  }
 ],
 "metadata": {
  "kernelspec": {
   "display_name": "Python 3",
   "language": "python",
   "name": "python3"
  },
  "language_info": {
   "codemirror_mode": {
    "name": "ipython",
    "version": 3
   },
   "file_extension": ".py",
   "mimetype": "text/x-python",
   "name": "python",
   "nbconvert_exporter": "python",
   "pygments_lexer": "ipython3",
   "version": "3.9.6"
  },
  "orig_nbformat": 4
 },
 "nbformat": 4,
 "nbformat_minor": 2
}
